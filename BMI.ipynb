{
 "cells": [
  {
   "cell_type": "code",
   "execution_count": 13,
   "id": "30d01c8a",
   "metadata": {},
   "outputs": [],
   "source": [
    "\n",
    "\n",
    "\n",
    "name = []\n",
    "height_feet = []\n",
    "height_meter = []\n",
    "weight = []\n",
    "\n",
    "\n",
    "def feet_to_meter(height):\n",
    "    height_in_meters = height * 0.3048\n",
    "    return height_in_meter\n",
    "\n",
    "def bmi(height,weight):\n",
    "    bmi = weight/(height)**2 \n",
    "    return round(bmi,2)\n"
   ]
  },
  {
   "cell_type": "code",
   "execution_count": 49,
   "id": "bb3fa580",
   "metadata": {},
   "outputs": [],
   "source": [
    "name.clear()\n",
    "height_feet.clear()\n",
    "weight.clear()\n",
    "\n",
    "def process_file(filename , name , height_feet , weight):\n",
    "    file = open(filename)\n",
    "    lines = file.readlines()\n",
    " \n",
    "\n",
    "    for oo in lines:\n",
    "       \n",
    "        name.append(oo[0])\n",
    "        height_feet.append(oo[1])\n",
    "        weight.append(oo[2])\n",
    "      \n",
    "    \n",
    "    del name[0]\n",
    "    del height_feet[1]\n",
    "    del weight[2]\n",
    "   \n",
    "    file.close() \n",
    "    \n",
    " "
   ]
  },
  {
   "cell_type": "code",
   "execution_count": null,
   "id": "3db0d615",
   "metadata": {},
   "outputs": [],
   "source": []
  }
 ],
 "metadata": {
  "kernelspec": {
   "display_name": "Python 3",
   "language": "python",
   "name": "python3"
  },
  "language_info": {
   "codemirror_mode": {
    "name": "ipython",
    "version": 3
   },
   "file_extension": ".py",
   "mimetype": "text/x-python",
   "name": "python",
   "nbconvert_exporter": "python",
   "pygments_lexer": "ipython3",
   "version": "3.8.8"
  }
 },
 "nbformat": 4,
 "nbformat_minor": 5
}
