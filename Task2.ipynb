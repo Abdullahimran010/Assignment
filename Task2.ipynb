{
 "cells": [
  {
   "cell_type": "code",
   "execution_count": 2,
   "id": "e7c58f1b",
   "metadata": {},
   "outputs": [
    {
     "name": "stdout",
     "output_type": "stream",
     "text": [
      "{'CS101': '3004', 'CS102': '4501', 'CS103': '6755', 'NT110': '1244', 'CM241': '1411'}\n",
      "{'CS101': 'Haynes', 'CS102': 'Alvarado', 'CS103': 'Rich', 'NT110': 'Berke', 'CM241': 'Lee'}\n",
      "{'CS101': '8:00 a.m', 'CS102': '9:00 a.m', 'CS103': '10:00 a.m', 'NT110': '11:00 a.m', 'CM241': '1:00 p.m'}\n"
     ]
    }
   ],
   "source": [
    "\n",
    "#task2\n",
    "\n",
    "dic1 = {'CS101':'3004','CS102':'4501','CS103':'6755','NT110':'1244','CM241':'1411'}\n",
    "print(dic1)\n",
    "dic2 = {'CS101':'Haynes','CS102':'Alvarado','CS103':'Rich','NT110':'Berke','CM241':'Lee'}\n",
    "print(dic2)\n",
    "dic3 = {'CS101':'8:00 a.m','CS102':'9:00 a.m','CS103':'10:00 a.m','NT110':'11:00 a.m','CM241':'1:00 p.m'}\n",
    "print(dic3)"
   ]
  }
 ],
 "metadata": {
  "kernelspec": {
   "display_name": "Python 3",
   "language": "python",
   "name": "python3"
  },
  "language_info": {
   "codemirror_mode": {
    "name": "ipython",
    "version": 3
   },
   "file_extension": ".py",
   "mimetype": "text/x-python",
   "name": "python",
   "nbconvert_exporter": "python",
   "pygments_lexer": "ipython3",
   "version": "3.8.8"
  }
 },
 "nbformat": 4,
 "nbformat_minor": 5
}
